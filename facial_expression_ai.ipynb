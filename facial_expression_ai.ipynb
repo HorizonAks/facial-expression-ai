{
  "nbformat": 4,
  "nbformat_minor": 0,
  "metadata": {
    "colab": {
      "name": "facial-expression-AI.ipynb",
      "provenance": [],
      "collapsed_sections": []
    },
    "kernelspec": {
      "name": "python3",
      "display_name": "Python 3"
    },
    "language_info": {
      "name": "python"
    }
  },
  "cells": [
    {
      "cell_type": "markdown",
      "metadata": {
        "id": "51xbm_R_-fgf"
      },
      "source": [
        "#**FACIAL SENTIMENT ANALYSIS**\n",
        "##USING IMAGE PROVIDED BY THE USER\n",
        "\n",
        "###*Made by [Akshat Jain](https://www.linkedin.com/in/hzakshat/)*"
      ]
    },
    {
      "cell_type": "markdown",
      "metadata": {
        "id": "JMM_ID3K-yIG"
      },
      "source": [
        "##Imports"
      ]
    },
    {
      "cell_type": "code",
      "metadata": {
        "id": "QyopoNbsP29l",
        "colab": {
          "base_uri": "https://localhost:8080/"
        },
        "outputId": "77804f17-6306-4051-846d-813c14fd7016"
      },
      "source": [
        "!pip install mtcnn\n",
        "from keras.models import load_model\n",
        "import tensorflow as tf\n",
        "import sys\n",
        "import cv2\n",
        "import os\n",
        "import mtcnn\n",
        "import requests\n",
        "import shutil\n",
        "import numpy as np\n",
        "from PIL import Image\n",
        "from numpy import asarray\n",
        "from matplotlib import pyplot\n",
        "from mtcnn.mtcnn import MTCNN\n",
        "print(mtcnn.__version__)\n",
        "print(sys.version)"
      ],
      "execution_count": null,
      "outputs": [
        {
          "output_type": "stream",
          "name": "stdout",
          "text": [
            "Requirement already satisfied: mtcnn in /usr/local/lib/python3.7/dist-packages (0.1.1)\n",
            "Requirement already satisfied: opencv-python>=4.1.0 in /usr/local/lib/python3.7/dist-packages (from mtcnn) (4.1.2.30)\n",
            "Requirement already satisfied: keras>=2.0.0 in /usr/local/lib/python3.7/dist-packages (from mtcnn) (2.6.0)\n",
            "Requirement already satisfied: numpy>=1.14.5 in /usr/local/lib/python3.7/dist-packages (from opencv-python>=4.1.0->mtcnn) (1.19.5)\n",
            "0.1.0\n",
            "3.7.11 (default, Jul  3 2021, 18:01:19) \n",
            "[GCC 7.5.0]\n"
          ]
        }
      ]
    },
    {
      "cell_type": "markdown",
      "metadata": {
        "id": "0y_Ymfju-0-P"
      },
      "source": [
        "##Helper Functions"
      ]
    },
    {
      "cell_type": "code",
      "metadata": {
        "id": "bH6okyWENsGE"
      },
      "source": [
        "#IMAGE LOADER FUNCTIONS\n",
        "def load_single_image(filename):\n",
        "    # load image from file\n",
        "    image = Image.open(filename)\n",
        "    # convert to RGB, if needed\n",
        "    image = image.convert('RGB')\n",
        "    # convert to array\n",
        "    pixels = asarray(image)\n",
        "    return pixels\n",
        "\n",
        "def load_images_from_folder(folder):\n",
        "    images = []\n",
        "    for filename in os.listdir(folder):\n",
        "        img = cv2.imread(os.path.join(folder,filename))\n",
        "        if img is not None:\n",
        "            images.append(img)\n",
        "    return images\n",
        "\n",
        "#images = load_images_from_folder('./images')"
      ],
      "execution_count": null,
      "outputs": []
    },
    {
      "cell_type": "code",
      "metadata": {
        "id": "AF6aDzyIRZAk"
      },
      "source": [
        "#FACE DETECTOR\n",
        "#returns an array of pixels of the detected face\n",
        "#no_face_sample = load_single_image(\"/content/drive/MyDrive/SentimentAnalysis/DATA/Images/323.jpg\")\n",
        "def detect_face(pixels):\n",
        "  detector = MTCNN()\n",
        "  results = detector.detect_faces(pixels)\n",
        "  if len(results) == 0:\n",
        "    image = Image.fromarray(pixels)\n",
        "    image = image.resize((160, 160))\n",
        "    return asarray(image)\n",
        "  x1, y1, width, height = results[0]['box']\n",
        "  # bug fix\n",
        "  #implement loop\n",
        "  x1, y1 = abs(x1), abs(y1)\n",
        "  x2, y2 = x1 + width, y1 + height\n",
        "  face = pixels[y1:y2,x1:x2]\n",
        "  image = Image.fromarray(face)\n",
        "  image = image.resize((160, 160))\n",
        "  face_array = asarray(image)\n",
        "  return face_array"
      ],
      "execution_count": null,
      "outputs": []
    },
    {
      "cell_type": "code",
      "metadata": {
        "id": "e9gdm1MqRcR0"
      },
      "source": [
        "def detectface_and_load(Filenames):\n",
        "    images = []\n",
        "    for filename in Filenames:\n",
        "        img = load_single_image(filename)\n",
        "        if img is not None:\n",
        "            img = detect_face(img)\n",
        "            images.append(img)\n",
        "    return images"
      ],
      "execution_count": null,
      "outputs": []
    },
    {
      "cell_type": "code",
      "metadata": {
        "id": "hP6klEgYRfuk"
      },
      "source": [
        "def mapper(lista, listb):\n",
        "  assert len(lista) == len(listb)\n",
        "  listc = []\n",
        "  for i in range(len(listb)):\n",
        "    listc.append([lista[i],listb[i]])\n",
        "  return listc\n",
        "\n",
        "def demapper(listc):\n",
        "  lista = []\n",
        "  listb = []\n",
        "  for i in listc:\n",
        "    lista.append(i[0])\n",
        "    listb.append(i[1])\n",
        "  return lista, listb"
      ],
      "execution_count": null,
      "outputs": []
    },
    {
      "cell_type": "markdown",
      "metadata": {
        "id": "lijqiCQu-Wwn"
      },
      "source": [
        "##**MODEL**\n",
        "\n",
        "Unable to share training data, therefore loading trained model directly from mydrive\n",
        "\n",
        "if you want to see the actual model and how it was trained and the bigger project, please contact me "
      ]
    },
    {
      "cell_type": "code",
      "metadata": {
        "id": "hKCwIIWRLsPR"
      },
      "source": [
        "filename = os.path.join(os.getcwd(), 'repo.zip')\n",
        "url = 'https://github.com/HorizonAks/facial-expression-ai/archive/refs/heads/main.zip'\n",
        "\n",
        "r = requests.get(url)\n",
        "\n",
        "with open(filename, 'wb') as f:\n",
        "    f.write(r.content)"
      ],
      "execution_count": null,
      "outputs": []
    },
    {
      "cell_type": "code",
      "metadata": {
        "id": "S1YOUAMlPX2M"
      },
      "source": [
        "shutil.unpack_archive(\"repo.zip\", \"./\")"
      ],
      "execution_count": null,
      "outputs": []
    },
    {
      "cell_type": "code",
      "metadata": {
        "id": "6XqTShYAQTpl"
      },
      "source": [
        "emotions = [\"DISGUST\", \"HAPPINESS\", \"NEUTRAL\", \"ANGER\", \"SURPRISE\", \"SADNESS\", \"NOFACE\"]\n",
        "\n",
        "#LOAD TRAINED MODEL\n",
        "#Unable to share training data, therefore loading trained model directly\n",
        "#if you want to see the actual model and how it was trained and the bigger project, please contact me \n",
        "model = tf.keras.models.load_model('/content/facial-expression-ai-main/bin')"
      ],
      "execution_count": null,
      "outputs": []
    },
    {
      "cell_type": "code",
      "metadata": {
        "id": "9uCAxaT8RGdd"
      },
      "source": [
        "def predictor(image_path):\n",
        "  images = load_images_from_folder(image_path)\n",
        "  image = detect_face(images[0])\n",
        "  image = asarray(image)/255.0\n",
        "\n",
        "  #print image\n",
        "  print(image.shape)\n",
        "  pyplot.axis('off')\n",
        "  pyplot.imshow(image)\n",
        "  pyplot.show()\n",
        "\n",
        "  image = tf.constant([[image]])\n",
        "  image = tf.data.Dataset.from_tensor_slices(image)\n",
        "  results = model.predict(image)\n",
        "  print(\"Classifier:\\n\")\n",
        "  print(mapper(asarray(results[0]) * 100,emotions))\n",
        "  print(\"Prediction = \" + emotions[np.argmax(results[0])])\n",
        "  return emotions[np.argmax(results[0])]"
      ],
      "execution_count": null,
      "outputs": []
    },
    {
      "cell_type": "code",
      "metadata": {
        "id": "RKeMY1tjQgEE"
      },
      "source": [
        "os.mkdir(\"./predict/\")"
      ],
      "execution_count": null,
      "outputs": []
    },
    {
      "cell_type": "markdown",
      "metadata": {
        "id": "X_6V1O2F_BsG"
      },
      "source": [
        "#**UPLOAD YOUR IMAGE**\n",
        "Upload an Image with a face you may want to predict Sentiments on:\n",
        "  1. in the left section, click on folder icon\n",
        "  2. wait for collaboratory to connect to google server\n",
        "  3. click on up arrow icon(upload icon)\n",
        "  4. choose your image\n",
        "  5. once uploaded, place that image in predict folder and then run the block below"
      ]
    },
    {
      "cell_type": "code",
      "metadata": {
        "id": "T1d8ocz8_ABF"
      },
      "source": [
        "predictor(\"./predict/\")"
      ],
      "execution_count": null,
      "outputs": []
    },
    {
      "cell_type": "markdown",
      "metadata": {
        "id": "KKIEwmVHSOVb"
      },
      "source": [
        "###**Want to analyse another image?**\n",
        "  1. delete your old photo from the predict folder \n",
        "  2. upload the new image to the same folder \n",
        "  3. run the above block { predictor(...) } again"
      ]
    },
    {
      "cell_type": "markdown",
      "metadata": {
        "id": "10dlPhnzJexc"
      },
      "source": [
        "##**REFERENCES**\n",
        "\n",
        "1. https://www.youtube.com/watch?v=tPYj3fFJGjk\n",
        "2. stackoverflow.com\n",
        "3. https://www.delftstack.com/howto/numpy/save-numpy-array-as-image/\n",
        "4. https://machinelearningmastery.com/how-to-develop-a-face-recognition-system-using-facenet-in-keras-and-an-svm-classifier/\n",
        "5. google.com\n",
        "\n",
        "##My Github:\n",
        "https://github.com/HorizonAks"
      ]
    }
  ]
}